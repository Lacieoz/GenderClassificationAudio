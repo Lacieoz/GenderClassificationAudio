{
 "cells": [
  {
   "cell_type": "code",
   "execution_count": 1,
   "metadata": {},
   "outputs": [
    {
     "name": "stdout",
     "output_type": "stream",
     "text": [
      "File ./csv/features_cnn.csv doesn't exists\n",
      "Features will be calculated\n"
     ]
    }
   ],
   "source": [
    "import os\n",
    "import librosa\n",
    "import numpy as np\n",
    "import csv\n",
    "import torch\n",
    "import random\n",
    "\n",
    "min_frames = 63 # calculated minimum number of frames in audio files \n",
    "n_mfcc = 39\n",
    "csv_file_save = './csv/features_cnn.csv'\n",
    "\n",
    "calculate_csv = None\n",
    "\n",
    "if not os.path.exists('./csv'):\n",
    "    os.makedirs('./csv')\n",
    "\n",
    "if os.path.exists(csv_file_save):\n",
    "    print (\"File \" + csv_file_save + \" exists\")\n",
    "    print (\"Features won't be recalculated\")\n",
    "    calculate_csv = False\n",
    "else:\n",
    "    print (\"File \" + csv_file_save + \" doesn't exists\")\n",
    "    print (\"Features will be calculated\")\n",
    "    calculate_csv = True"
   ]
  },
  {
   "cell_type": "code",
   "execution_count": 2,
   "metadata": {},
   "outputs": [],
   "source": [
    "# extract info speakers\n",
    "\n",
    "file_speaker = \"./LibriSpeech/SPEAKERS.TXT\"\n",
    "speakers = []\n",
    "\n",
    "f = open(file_speaker, \"r\")\n",
    "for line in f:\n",
    "    if line[0] == \";\":\n",
    "        continue\n",
    "    else:\n",
    "        speakers.append( str.rstrip(line) ) # rstrip to remove \\n at the end of the string"
   ]
  },
  {
   "cell_type": "code",
   "execution_count": 3,
   "metadata": {},
   "outputs": [
    {
     "data": {
      "text/plain": [
       "['14   | F | train-clean-360  | 25.03 | Kristin LeMoine',\n",
       " '16   | F | train-clean-360  | 25.11 | Alys AtteWater',\n",
       " '17   | M | train-clean-360  | 25.04 | Gord Mackenzie',\n",
       " '19   | F | train-clean-100  | 25.19 | Kara Shallenberg',\n",
       " '20   | F | train-other-500  | 30.07 | Gesine',\n",
       " '22   | F | train-clean-360  | 25.14 | Michelle Crandall',\n",
       " '23   | F | train-clean-360  | 25.23 | Anita Roy Dobbs',\n",
       " '25   | M | train-other-500  | 30.16 | John Gonzalez',\n",
       " '26   | M | train-clean-100  | 25.08 | Denny Sayers',\n",
       " '27   | M | train-clean-100  | 20.14 | Sean McKinley']"
      ]
     },
     "execution_count": 3,
     "metadata": {},
     "output_type": "execute_result"
    }
   ],
   "source": [
    "speakers[:10]"
   ]
  },
  {
   "cell_type": "code",
   "execution_count": 4,
   "metadata": {},
   "outputs": [],
   "source": [
    "# extract speakers gender in dictionary\n",
    "\n",
    "dict_speakers = {}\n",
    "list_speakers = []\n",
    "for speaker in speakers:\n",
    "    speaker_split = speaker.split()\n",
    "    speaker_split = [word for word in speaker_split if word != \"|\"]\n",
    "    \n",
    "    # indexes = 0 : id, 1 : gender, 2 : dataset\n",
    "    if speaker_split[2] == \"dev-clean\":\n",
    "        dict_speakers[speaker_split[0]] = speaker_split[1]\n",
    "        list_speakers.append(speaker_split[0])\n",
    "    else:\n",
    "        continue"
   ]
  },
  {
   "cell_type": "code",
   "execution_count": 5,
   "metadata": {},
   "outputs": [
    {
     "data": {
      "text/plain": [
       "{'84': 'F',\n",
       " '174': 'M',\n",
       " '251': 'M',\n",
       " '422': 'M',\n",
       " '652': 'M',\n",
       " '777': 'M',\n",
       " '1272': 'M',\n",
       " '1462': 'F',\n",
       " '1673': 'F',\n",
       " '1919': 'F',\n",
       " '1988': 'F',\n",
       " '1993': 'F',\n",
       " '2035': 'F',\n",
       " '2078': 'M',\n",
       " '2086': 'M',\n",
       " '2277': 'F',\n",
       " '2412': 'F',\n",
       " '2428': 'M',\n",
       " '2803': 'M',\n",
       " '2902': 'M',\n",
       " '3000': 'M',\n",
       " '3081': 'F',\n",
       " '3170': 'M',\n",
       " '3536': 'F',\n",
       " '3576': 'F',\n",
       " '3752': 'M',\n",
       " '3853': 'F',\n",
       " '5338': 'F',\n",
       " '5536': 'M',\n",
       " '5694': 'M',\n",
       " '5895': 'F',\n",
       " '6241': 'M',\n",
       " '6295': 'M',\n",
       " '6313': 'F',\n",
       " '6319': 'F',\n",
       " '6345': 'F',\n",
       " '7850': 'F',\n",
       " '7976': 'M',\n",
       " '8297': 'M',\n",
       " '8842': 'F'}"
      ]
     },
     "execution_count": 5,
     "metadata": {},
     "output_type": "execute_result"
    }
   ],
   "source": [
    "dict_speakers"
   ]
  },
  {
   "cell_type": "code",
   "execution_count": 6,
   "metadata": {},
   "outputs": [],
   "source": [
    "# get audio files info : name and path \n",
    "\n",
    "if calculate_csv:\n",
    "    audio_files = []\n",
    "\n",
    "    root = \"./\"\n",
    "    path = os.path.join(root, \"LibriSpeech\")\n",
    "\n",
    "    for (dirpath, dirnames, filenames) in os.walk(path):\n",
    "        for file in filenames:\n",
    "            if file[-5:] == \".flac\":\n",
    "                audio_files.append({\"dirpath\": dirpath, \"filename\": file})"
   ]
  },
  {
   "cell_type": "code",
   "execution_count": 7,
   "metadata": {
    "scrolled": false
   },
   "outputs": [
    {
     "name": "stdout",
     "output_type": "stream",
     "text": [
      "2703\n"
     ]
    }
   ],
   "source": [
    "if calculate_csv:\n",
    "    print(len(audio_files))"
   ]
  },
  {
   "cell_type": "code",
   "execution_count": 8,
   "metadata": {
    "scrolled": true
   },
   "outputs": [
    {
     "name": "stdout",
     "output_type": "stream",
     "text": [
      "[{'dirpath': './LibriSpeech\\\\dev-clean\\\\1272\\\\128104', 'filename': '1272-128104-0000.flac'}, {'dirpath': './LibriSpeech\\\\dev-clean\\\\1272\\\\128104', 'filename': '1272-128104-0001.flac'}, {'dirpath': './LibriSpeech\\\\dev-clean\\\\1272\\\\128104', 'filename': '1272-128104-0002.flac'}, {'dirpath': './LibriSpeech\\\\dev-clean\\\\1272\\\\128104', 'filename': '1272-128104-0003.flac'}, {'dirpath': './LibriSpeech\\\\dev-clean\\\\1272\\\\128104', 'filename': '1272-128104-0004.flac'}, {'dirpath': './LibriSpeech\\\\dev-clean\\\\1272\\\\128104', 'filename': '1272-128104-0005.flac'}, {'dirpath': './LibriSpeech\\\\dev-clean\\\\1272\\\\128104', 'filename': '1272-128104-0006.flac'}, {'dirpath': './LibriSpeech\\\\dev-clean\\\\1272\\\\128104', 'filename': '1272-128104-0007.flac'}, {'dirpath': './LibriSpeech\\\\dev-clean\\\\1272\\\\128104', 'filename': '1272-128104-0008.flac'}, {'dirpath': './LibriSpeech\\\\dev-clean\\\\1272\\\\128104', 'filename': '1272-128104-0009.flac'}]\n"
     ]
    }
   ],
   "source": [
    "if calculate_csv:\n",
    "    print(audio_files[:10])"
   ]
  },
  {
   "cell_type": "code",
   "execution_count": 9,
   "metadata": {},
   "outputs": [],
   "source": [
    "# get labels genders (target) for each file \n",
    "\n",
    "if calculate_csv:\n",
    "    gender_labels = []\n",
    "\n",
    "    for audio_file in audio_files:\n",
    "        file = audio_file[\"filename\"]\n",
    "        index = 0\n",
    "        for char in file:\n",
    "            if char != \"-\":\n",
    "                index += 1\n",
    "            else:\n",
    "                break\n",
    "        id_speaker = file[:index]\n",
    "        audio_file[\"id_speaker\"] = id_speaker\n",
    "\n",
    "        gender_labels.append(dict_speakers[id_speaker])"
   ]
  },
  {
   "cell_type": "code",
   "execution_count": 10,
   "metadata": {},
   "outputs": [
    {
     "name": "stdout",
     "output_type": "stream",
     "text": [
      "2703\n"
     ]
    }
   ],
   "source": [
    "if calculate_csv:\n",
    "    print(len(gender_labels))"
   ]
  },
  {
   "cell_type": "code",
   "execution_count": 11,
   "metadata": {},
   "outputs": [
    {
     "name": "stdout",
     "output_type": "stream",
     "text": [
      "Extracting features file 100/2703\n",
      "Extracting features file 200/2703\n",
      "Extracting features file 300/2703\n",
      "Extracting features file 400/2703\n",
      "Extracting features file 500/2703\n",
      "Extracting features file 600/2703\n",
      "Extracting features file 700/2703\n",
      "Extracting features file 800/2703\n",
      "Extracting features file 900/2703\n",
      "Extracting features file 1000/2703\n",
      "Extracting features file 1100/2703\n",
      "Extracting features file 1200/2703\n",
      "Extracting features file 1300/2703\n",
      "Extracting features file 1400/2703\n",
      "Extracting features file 1500/2703\n",
      "Extracting features file 1600/2703\n",
      "Extracting features file 1700/2703\n",
      "Extracting features file 1800/2703\n",
      "Extracting features file 1900/2703\n",
      "Extracting features file 2000/2703\n",
      "Extracting features file 2100/2703\n",
      "Extracting features file 2200/2703\n",
      "Extracting features file 2300/2703\n",
      "Extracting features file 2400/2703\n",
      "Extracting features file 2500/2703\n",
      "Extracting features file 2600/2703\n",
      "Extracting features file 2700/2703\n",
      "Min number of frames = 63\n",
      "End of extracting features\n"
     ]
    }
   ],
   "source": [
    "# extract features\n",
    "\n",
    "if calculate_csv:\n",
    "\n",
    "    input_features = []\n",
    "\n",
    "    counter = 0\n",
    "\n",
    "    min_frames = 1000000\n",
    "\n",
    "    for audio_file in audio_files:\n",
    "\n",
    "        counter += 1\n",
    "        if counter % 100 == 0:\n",
    "            print(\"Extracting features file \" + str(counter) + \"/\" + str(len(audio_files)))\n",
    "\n",
    "        directory = audio_file[\"dirpath\"]\n",
    "        filename = audio_file[\"filename\"]\n",
    "\n",
    "        y, sr = librosa.load(directory + \"/\" + filename)\n",
    "        hop_length = 512\n",
    "        mfccs = librosa.feature.mfcc(y=y, sr=sr, hop_length=hop_length, n_mfcc=n_mfcc)\n",
    "\n",
    "        length = len(mfccs[0])\n",
    "        if length < min_frames:\n",
    "            min_frames = length \n",
    "\n",
    "        input_features.append(mfccs)\n",
    "\n",
    "    print('Min number of frames = ' + str(min_frames))\n",
    "    print(\"End of extracting features\")"
   ]
  },
  {
   "cell_type": "code",
   "execution_count": 12,
   "metadata": {},
   "outputs": [
    {
     "name": "stdout",
     "output_type": "stream",
     "text": [
      "Writing row 500/2703\n",
      "Writing row 1000/2703\n",
      "Writing row 1500/2703\n",
      "Writing row 2000/2703\n",
      "Writing row 2500/2703\n",
      "End of writing csv\n"
     ]
    }
   ],
   "source": [
    "# save on csv datas and labels\n",
    "\n",
    "if calculate_csv:\n",
    "    with open(csv_file_save, 'w', newline='') as csvfile:\n",
    "        feat_writer = csv.writer(csvfile, delimiter=',',\n",
    "                                quotechar='|', quoting=csv.QUOTE_MINIMAL)\n",
    "\n",
    "        index = 0\n",
    "\n",
    "        row_to_write = ['label', 'label_value', 'id_speaker']\n",
    "        for f in range(n_mfcc):\n",
    "            for fr in range(min_frames):\n",
    "                row_to_write.append('f' + str(f) + 'n' + str(fr))\n",
    "\n",
    "        feat_writer.writerow(row_to_write)\n",
    "\n",
    "        for input_feature in input_features:\n",
    "\n",
    "            class_label = gender_labels[index]\n",
    "            if class_label == \"M\":\n",
    "                class_label = 0\n",
    "            else:\n",
    "                class_label = 1\n",
    "\n",
    "            row_to_write = [class_label, gender_labels[index], audio_files[index][\"id_speaker\"]]\n",
    "\n",
    "            index += 1\n",
    "\n",
    "            if index % 500 == 0:\n",
    "                print(\"Writing row \" + str(index) + \"/\" + str(len(audio_files)))\n",
    "            for features in input_feature:\n",
    "                for frame in range(min_frames):\n",
    "                    row_to_write.append(features[frame])\n",
    "\n",
    "            feat_writer.writerow(row_to_write)\n",
    "    print(\"End of writing csv\")"
   ]
  },
  {
   "cell_type": "code",
   "execution_count": 13,
   "metadata": {},
   "outputs": [
    {
     "name": "stdout",
     "output_type": "stream",
     "text": [
      "[1272, 1673, 3752, 7850, 3000, 8842, 2078, 84, 2277, 3081, 422, 5338, 1462, 7976, 251, 6319, 652, 3170, 6313, 2428, 6345, 777, 8297, 6295, 5536, 3853, 3576, 2412]\n",
      "[6241, 2803, 2902, 3536, 1988, 2035]\n",
      "[174, 2086, 1993, 5895, 5694, 1919]\n"
     ]
    }
   ],
   "source": [
    "# choose speakers to put in each dataset\n",
    "\"\"\"\n",
    "random.shuffle(list_speakers)\n",
    "\n",
    "speakers_train = []\n",
    "speakers_val   = []\n",
    "speakers_test  = []\n",
    "count_males   = 0\n",
    "count_females = 0 \n",
    "n_speakers = len(list_speakers)\n",
    "n_speakers_for_gender_train = (n_speakers / 2) * 0.7\n",
    "n_speakers_for_gender_train_val = (n_speakers / 2) * 0.85\n",
    "\n",
    "for speaker in list_speakers:\n",
    "    gender = dict_speakers[speaker]\n",
    "    if gender == 'M':\n",
    "        if count_males < n_speakers_for_gender_train: \n",
    "            speakers_train.append(int(speaker))\n",
    "        elif count_males < n_speakers_for_gender_train_val: \n",
    "            speakers_val.append(int(speaker))\n",
    "        else:\n",
    "            speakers_test.append(int(speaker))\n",
    "        count_males += 1\n",
    "    elif gender == 'F':\n",
    "        if count_females < n_speakers_for_gender_train: \n",
    "            speakers_train.append(int(speaker))\n",
    "        elif count_females < n_speakers_for_gender_train_val: \n",
    "            speakers_val.append(int(speaker))\n",
    "        else:\n",
    "            speakers_test.append(int(speaker))\n",
    "        count_females += 1\n",
    "\n",
    "\"\"\"\n",
    "# to set group of speakers as the other notebook \n",
    "speakers_train = [1272, 1673, 3752, 7850, 3000, 8842, 2078, 84, 2277, 3081, 422, 5338, 1462, 7976, 251, 6319, 652, 3170, 6313, 2428, 6345, 777, 8297, 6295, 5536, 3853, 3576, 2412]\n",
    "speakers_val = [6241, 2803, 2902, 3536, 1988, 2035]\n",
    "speakers_test = [174, 2086, 1993, 5895, 5694, 1919]\n",
    "\n",
    "print(speakers_train)\n",
    "print(speakers_val)\n",
    "print(speakers_test)"
   ]
  },
  {
   "cell_type": "code",
   "execution_count": 14,
   "metadata": {
    "scrolled": true
   },
   "outputs": [
    {
     "name": "stdout",
     "output_type": "stream",
     "text": [
      "(1915, 1)\n",
      "(1915, 39, 63)\n",
      "(389, 1)\n",
      "(389, 39, 63)\n",
      "(399, 1)\n",
      "(399, 39, 63)\n",
      "(1915, 1)\n",
      "(1915, 39, 63)\n",
      "(389, 1)\n",
      "(389, 39, 63)\n",
      "(399, 1)\n",
      "(399, 39, 63)\n"
     ]
    }
   ],
   "source": [
    "# read csv\n",
    "\n",
    "my_data = np.genfromtxt(csv_file_save, delimiter=',', skip_header=1)\n",
    "\n",
    "labels_train = []\n",
    "data_train   = []\n",
    "labels_test  = []\n",
    "data_test    = []\n",
    "labels_val   = []\n",
    "data_val     = []\n",
    "\n",
    "for row in my_data:\n",
    "    features_to_append = []\n",
    "    features = row[3:]\n",
    "    \n",
    "    for index in range(n_mfcc):\n",
    "        features_to_append.append(features[min_frames * index : min_frames * (index + 1)])\n",
    "    \n",
    "    if row[2] in speakers_train:\n",
    "        labels_train.append([row[0]])\n",
    "        data_train.append(features_to_append)\n",
    "        \n",
    "    elif row[2] in speakers_val:\n",
    "        labels_val.append([row[0]])\n",
    "        data_val.append(features_to_append)\n",
    "    \n",
    "    else:\n",
    "        labels_test.append([row[0]])\n",
    "        data_test.append(features_to_append)\n",
    "    \n",
    "\n",
    "print(np.array(labels_train).shape)\n",
    "print(np.array(data_train).shape)\n",
    "print(np.array(labels_val).shape)\n",
    "print(np.array(data_val).shape)\n",
    "print(np.array(labels_test).shape)\n",
    "print(np.array(data_test).shape)\n",
    "    \n",
    "data_train = list(zip(labels_train, data_train))\n",
    "random.shuffle(data_train)\n",
    "labels_train, data_train = zip(*data_train)\n",
    "\n",
    "data_val = list(zip(labels_val, data_val))\n",
    "random.shuffle(data_val)\n",
    "labels_val, data_val = zip(*data_val)\n",
    "\n",
    "data_test = list(zip(labels_test, data_test))\n",
    "random.shuffle(data_test)\n",
    "labels_test, data_test = zip(*data_test)\n",
    "        \n",
    "labels_train = np.array(labels_train)\n",
    "data_train   = np.array(data_train)\n",
    "labels_val   = np.array(labels_val)\n",
    "data_val     = np.array(data_val)\n",
    "labels_test  = np.array(labels_test)\n",
    "data_test    = np.array(data_test)\n",
    "\n",
    "print(labels_train.shape)\n",
    "print(data_train.shape)\n",
    "print(labels_val.shape)\n",
    "print(data_val.shape)\n",
    "print(labels_test.shape)\n",
    "print(data_test.shape)"
   ]
  },
  {
   "cell_type": "code",
   "execution_count": 15,
   "metadata": {},
   "outputs": [
    {
     "name": "stdout",
     "output_type": "stream",
     "text": [
      "torch.Size([1915, 39, 63]) torch.Size([1915, 1])\n",
      "torch.Size([389, 39, 63]) torch.Size([389, 1])\n",
      "torch.Size([399, 39, 63]) torch.Size([399, 1])\n"
     ]
    }
   ],
   "source": [
    "# cast data to tensor\n",
    "\n",
    "data_train_tensor   = torch.from_numpy(data_train).float()\n",
    "labels_train_tensor = torch.from_numpy(labels_train).float()\n",
    "data_val_tensor     = torch.from_numpy(data_val).float()\n",
    "labels_val_tensor   = torch.from_numpy(labels_val).float()\n",
    "data_test_tensor    = torch.from_numpy(data_test).float()\n",
    "labels_test_tensor  = torch.from_numpy(labels_test).float()\n",
    "\n",
    "print(data_train_tensor.shape, labels_train_tensor.shape)\n",
    "print(data_val_tensor.shape, labels_val_tensor.shape)\n",
    "print(data_test_tensor.shape, labels_test_tensor.shape)"
   ]
  },
  {
   "cell_type": "code",
   "execution_count": 16,
   "metadata": {},
   "outputs": [
    {
     "name": "stdout",
     "output_type": "stream",
     "text": [
      "Epoch 10/10000, Loss: 1762.641, Accuracy: 0.492, Loss_Val: 319.628, Accuracy_Val: 0.550\n",
      "Epoch 20/10000, Loss: 1576.793, Accuracy: 0.524, Loss_Val: 330.761, Accuracy_Val: 0.530\n",
      "Epoch 30/10000, Loss: 1433.908, Accuracy: 0.558, Loss_Val: 289.170, Accuracy_Val: 0.589\n",
      "Epoch 40/10000, Loss: 1306.000, Accuracy: 0.596, Loss_Val: 274.105, Accuracy_Val: 0.594\n",
      "Epoch 50/10000, Loss: 1227.546, Accuracy: 0.635, Loss_Val: 271.142, Accuracy_Val: 0.584\n",
      "Epoch 60/10000, Loss: 1172.211, Accuracy: 0.670, Loss_Val: 241.103, Accuracy_Val: 0.668\n",
      "Epoch 70/10000, Loss: 1088.417, Accuracy: 0.710, Loss_Val: 242.251, Accuracy_Val: 0.650\n",
      "Epoch 80/10000, Loss: 1030.778, Accuracy: 0.734, Loss_Val: 221.377, Accuracy_Val: 0.689\n",
      "Epoch 90/10000, Loss: 957.441, Accuracy: 0.774, Loss_Val: 209.535, Accuracy_Val: 0.743\n",
      "Epoch 100/10000, Loss: 894.053, Accuracy: 0.794, Loss_Val: 202.181, Accuracy_Val: 0.735\n",
      "Epoch 110/10000, Loss: 837.953, Accuracy: 0.804, Loss_Val: 206.004, Accuracy_Val: 0.740\n",
      "Epoch 120/10000, Loss: 785.890, Accuracy: 0.820, Loss_Val: 187.178, Accuracy_Val: 0.758\n",
      "Epoch 130/10000, Loss: 720.356, Accuracy: 0.834, Loss_Val: 174.423, Accuracy_Val: 0.792\n",
      "Epoch 140/10000, Loss: 675.637, Accuracy: 0.844, Loss_Val: 170.128, Accuracy_Val: 0.805\n",
      "Epoch 150/10000, Loss: 627.560, Accuracy: 0.866, Loss_Val: 156.939, Accuracy_Val: 0.833\n",
      "Epoch 160/10000, Loss: 585.844, Accuracy: 0.874, Loss_Val: 151.988, Accuracy_Val: 0.823\n",
      "Epoch 170/10000, Loss: 571.183, Accuracy: 0.872, Loss_Val: 150.672, Accuracy_Val: 0.825\n",
      "Epoch 180/10000, Loss: 534.246, Accuracy: 0.884, Loss_Val: 137.293, Accuracy_Val: 0.851\n",
      "Epoch 190/10000, Loss: 489.156, Accuracy: 0.892, Loss_Val: 140.422, Accuracy_Val: 0.851\n",
      "Epoch 200/10000, Loss: 465.589, Accuracy: 0.902, Loss_Val: 144.085, Accuracy_Val: 0.828\n",
      "Epoch 210/10000, Loss: 450.162, Accuracy: 0.905, Loss_Val: 136.991, Accuracy_Val: 0.846\n",
      "Epoch 220/10000, Loss: 428.927, Accuracy: 0.912, Loss_Val: 136.810, Accuracy_Val: 0.856\n",
      "Epoch 230/10000, Loss: 391.435, Accuracy: 0.923, Loss_Val: 126.544, Accuracy_Val: 0.853\n",
      "Epoch 240/10000, Loss: 384.007, Accuracy: 0.916, Loss_Val: 125.136, Accuracy_Val: 0.866\n",
      "Epoch 250/10000, Loss: 364.817, Accuracy: 0.924, Loss_Val: 126.401, Accuracy_Val: 0.866\n",
      "Epoch 260/10000, Loss: 362.682, Accuracy: 0.921, Loss_Val: 130.687, Accuracy_Val: 0.843\n",
      "Epoch 270/10000, Loss: 336.635, Accuracy: 0.930, Loss_Val: 136.762, Accuracy_Val: 0.846\n",
      "Epoch 280/10000, Loss: 293.621, Accuracy: 0.937, Loss_Val: 115.453, Accuracy_Val: 0.877\n",
      "Epoch 290/10000, Loss: 300.646, Accuracy: 0.943, Loss_Val: 133.291, Accuracy_Val: 0.861\n",
      "Epoch 300/10000, Loss: 288.876, Accuracy: 0.940, Loss_Val: 124.549, Accuracy_Val: 0.879\n",
      "Epoch 310/10000, Loss: 274.475, Accuracy: 0.940, Loss_Val: 129.708, Accuracy_Val: 0.859\n",
      "Epoch 320/10000, Loss: 267.862, Accuracy: 0.948, Loss_Val: 126.397, Accuracy_Val: 0.861\n",
      "Epoch 330/10000, Loss: 238.691, Accuracy: 0.955, Loss_Val: 136.523, Accuracy_Val: 0.841\n",
      "Epoch 340/10000, Loss: 246.317, Accuracy: 0.951, Loss_Val: 140.532, Accuracy_Val: 0.838\n",
      "Epoch 350/10000, Loss: 226.128, Accuracy: 0.953, Loss_Val: 140.361, Accuracy_Val: 0.835\n",
      "Epoch 360/10000, Loss: 214.897, Accuracy: 0.961, Loss_Val: 128.360, Accuracy_Val: 0.871\n",
      "Epoch 370/10000, Loss: 200.273, Accuracy: 0.961, Loss_Val: 136.245, Accuracy_Val: 0.851\n",
      "Epoch 380/10000, Loss: 198.377, Accuracy: 0.959, Loss_Val: 135.314, Accuracy_Val: 0.843\n",
      "Epoch 390/10000, Loss: 183.464, Accuracy: 0.964, Loss_Val: 136.474, Accuracy_Val: 0.864\n",
      "Epoch 400/10000, Loss: 177.427, Accuracy: 0.967, Loss_Val: 125.653, Accuracy_Val: 0.861\n",
      "Epoch 410/10000, Loss: 167.634, Accuracy: 0.967, Loss_Val: 166.734, Accuracy_Val: 0.851\n",
      "Epoch 420/10000, Loss: 158.107, Accuracy: 0.966, Loss_Val: 130.374, Accuracy_Val: 0.877\n",
      "Epoch 430/10000, Loss: 153.502, Accuracy: 0.970, Loss_Val: 133.103, Accuracy_Val: 0.869\n",
      "Epoch 440/10000, Loss: 141.354, Accuracy: 0.972, Loss_Val: 143.712, Accuracy_Val: 0.859\n",
      "Epoch 450/10000, Loss: 129.682, Accuracy: 0.975, Loss_Val: 157.189, Accuracy_Val: 0.846\n",
      "Epoch 460/10000, Loss: 130.131, Accuracy: 0.975, Loss_Val: 141.759, Accuracy_Val: 0.866\n",
      "Epoch 470/10000, Loss: 123.369, Accuracy: 0.975, Loss_Val: 140.404, Accuracy_Val: 0.859\n",
      "Epoch 480/10000, Loss: 125.047, Accuracy: 0.976, Loss_Val: 137.009, Accuracy_Val: 0.879\n",
      "Epoch 490/10000, Loss: 119.421, Accuracy: 0.981, Loss_Val: 137.237, Accuracy_Val: 0.869\n",
      "Epoch 500/10000, Loss: 104.462, Accuracy: 0.980, Loss_Val: 157.202, Accuracy_Val: 0.856\n",
      "Epoch 510/10000, Loss: 94.777, Accuracy: 0.980, Loss_Val: 146.632, Accuracy_Val: 0.866\n",
      "Epoch 520/10000, Loss: 87.927, Accuracy: 0.985, Loss_Val: 145.287, Accuracy_Val: 0.864\n",
      "Epoch 530/10000, Loss: 91.720, Accuracy: 0.982, Loss_Val: 160.112, Accuracy_Val: 0.846\n",
      "Epoch 540/10000, Loss: 82.395, Accuracy: 0.987, Loss_Val: 153.134, Accuracy_Val: 0.871\n",
      "Epoch 550/10000, Loss: 83.370, Accuracy: 0.985, Loss_Val: 150.977, Accuracy_Val: 0.866\n",
      "Epoch 560/10000, Loss: 76.166, Accuracy: 0.986, Loss_Val: 158.085, Accuracy_Val: 0.859\n",
      "Epoch 570/10000, Loss: 67.171, Accuracy: 0.990, Loss_Val: 161.312, Accuracy_Val: 0.861\n",
      "Epoch 580/10000, Loss: 68.935, Accuracy: 0.990, Loss_Val: 155.992, Accuracy_Val: 0.856\n",
      "Epoch 590/10000, Loss: 66.529, Accuracy: 0.991, Loss_Val: 170.339, Accuracy_Val: 0.864\n",
      "Epoch 600/10000, Loss: 62.578, Accuracy: 0.990, Loss_Val: 175.524, Accuracy_Val: 0.846\n",
      "Final Model, Loss_Val: 111.563, Accuracy_Val: 0.869\n",
      "Final Model, Loss_Test: 139.896, Accuracy_Test: 0.850\n"
     ]
    }
   ],
   "source": [
    "# Model implementation and results\n",
    "\n",
    "hidden_neurons = 64\n",
    "n_outputs = 1\n",
    "num_epochs = 10000\n",
    "filters = 16\n",
    "path_model = 'model_cnn.pth.tar'\n",
    "\n",
    "class Flatten(torch.nn.Module):\n",
    "    def forward(self, x):\n",
    "        return x.view(x.size()[0], -1)\n",
    "\n",
    "model = torch.nn.Sequential(\n",
    "    torch.nn.Conv1d(n_mfcc, n_mfcc, 3, stride=2),\n",
    "    torch.nn.MaxPool1d(3, stride=2),\n",
    "    torch.nn.Conv1d(n_mfcc, n_mfcc, 3, stride=2),\n",
    "    torch.nn.MaxPool1d(3, stride=2),\n",
    "    Flatten(),\n",
    "    torch.nn.Linear(117, hidden_neurons),\n",
    "    torch.nn.ReLU(),\n",
    "    torch.nn.Dropout(p = 0.2),\n",
    "    torch.nn.Linear(hidden_neurons, hidden_neurons),\n",
    "    torch.nn.ReLU(),\n",
    "    torch.nn.Dropout(p = 0.2),\n",
    "    torch.nn.Linear(hidden_neurons, n_outputs),\n",
    "    torch.nn.Sigmoid()\n",
    ")\n",
    "\n",
    "\n",
    "criterion = torch.nn.BCELoss(reduction='sum')\n",
    "\n",
    "learning_rate = 7e-5\n",
    "optimizer = torch.optim.Adam(model.parameters(), lr=learning_rate)\n",
    "\n",
    "minimum = 0\n",
    "best_model = None\n",
    "\n",
    "no_improve = 0\n",
    "early_stopping_steps = 29\n",
    "\n",
    "for epoch in range(num_epochs):\n",
    "    y_pred = model(data_train_tensor)\n",
    "\n",
    "    loss = criterion(y_pred, labels_train_tensor)\n",
    "    \n",
    "    if epoch % 10 == 9:\n",
    "        y_pred_val = model(data_val_tensor)\n",
    "        \n",
    "        loss_val = criterion(y_pred_val, labels_val_tensor)\n",
    "        \n",
    "        #Accuracy \n",
    "        output       = (y_pred > 0.5).float()\n",
    "        correct      = (output == labels_train_tensor).float().sum()\n",
    "        output_val   = (y_pred_val > 0.5).float()\n",
    "        correct_val  = (output_val == labels_val_tensor).float().sum()\n",
    "        accuracy_val = correct_val/labels_val_tensor.shape[0]\n",
    "        \n",
    "        if accuracy_val > minimum:\n",
    "            minimum = accuracy_val\n",
    "            torch.save({'state_dict':model.state_dict(), 'optimizer': optimizer.state_dict()}, path_model)          \n",
    "            no_improve = 0\n",
    "        else:\n",
    "            no_improve += 1\n",
    "        \n",
    "        print(\"Epoch {}/{}, Loss: {:.3f}, Accuracy: {:.3f}, Loss_Val: {:.3f}, Accuracy_Val: {:.3f}\".format(epoch+1,\n",
    "                    num_epochs, loss, correct/labels_train_tensor.shape[0], loss_val, correct_val/labels_val_tensor.shape[0]))  \n",
    "\n",
    "    optimizer.zero_grad()\n",
    "    loss.backward()\n",
    "    optimizer.step()\n",
    "    \n",
    "    # early stopping\n",
    "    if no_improve > early_stopping_steps:\n",
    "        break\n",
    "        \n",
    "checkpoint = torch.load(path_model)         \n",
    "\n",
    "model.load_state_dict(checkpoint['state_dict'])\n",
    "optimizer.load_state_dict(checkpoint['optimizer'])\n",
    "\n",
    "# to disactivate dropout layers\n",
    "model.eval()\n",
    "\n",
    "y_pred_val  = model(data_val_tensor)\n",
    "loss_val    = criterion(y_pred_val, labels_val_tensor)\n",
    "output_val  = (y_pred_val > 0.5).float()\n",
    "correct_val = (output_val == labels_val_tensor).float().sum()\n",
    "        \n",
    "print(\"Final Model, Loss_Val: {:.3f}, Accuracy_Val: {:.3f}\".format(loss_val, correct_val/labels_val_tensor.shape[0])) \n",
    "\n",
    "y_pred_test  = model(data_test_tensor)\n",
    "loss_test    = criterion(y_pred_test, labels_test_tensor)\n",
    "output_test  = (y_pred_test > 0.5).float()\n",
    "correct_test = (output_test == labels_test_tensor).float().sum()\n",
    "        \n",
    "print(\"Final Model, Loss_Test: {:.3f}, Accuracy_Test: {:.3f}\".format(loss_test, correct_test/labels_test_tensor.shape[0])) "
   ]
  },
  {
   "cell_type": "code",
   "execution_count": null,
   "metadata": {},
   "outputs": [],
   "source": []
  }
 ],
 "metadata": {
  "kernelspec": {
   "display_name": "Python 3",
   "language": "python",
   "name": "python3"
  },
  "language_info": {
   "codemirror_mode": {
    "name": "ipython",
    "version": 3
   },
   "file_extension": ".py",
   "mimetype": "text/x-python",
   "name": "python",
   "nbconvert_exporter": "python",
   "pygments_lexer": "ipython3",
   "version": "3.7.1"
  }
 },
 "nbformat": 4,
 "nbformat_minor": 1
}
